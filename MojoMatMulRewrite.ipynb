{
 "cells": [
  {
   "cell_type": "code",
   "execution_count": 1,
   "id": "8a07621a",
   "metadata": {},
   "outputs": [],
   "source": [
    "%%python\n",
    "def matmul_python(C, A, B):\n",
    "    \n",
    "    # The indexes of rows of C, also the rows of A\n",
    "    # that go from 0 to M\n",
    "    for m in range(C.rows):\n",
    "        \n",
    "        # Indexes of columns of A, also the rows of B\n",
    "        for k in range(A.cols):\n",
    "            \n",
    "            # Indexes of columns of C, also the columns of B\n",
    "            for n in range(C.cols):\n",
    "                \n",
    "                C[m, n] += A[m, k] * B[k, n]\n",
    "                "
   ]
  },
  {
   "cell_type": "code",
   "execution_count": 20,
   "id": "cfec49dc",
   "metadata": {},
   "outputs": [],
   "source": [
    "%%python\n",
    "from timeit import timeit\n",
    "import numpy as np\n",
    "\n",
    "class Matrix:\n",
    "    def __init__(self, value, rows, cols):\n",
    "        self.value = value\n",
    "        self.rows = rows\n",
    "        self.cols = cols\n",
    "\n",
    "    def __getitem__(self, idxs):\n",
    "        return self.value[idxs[0]][idxs[1]]\n",
    "\n",
    "    def __setitem__(self, idxs, value):\n",
    "        self.value[idxs[0]][idxs[1]] = value\n",
    "\n",
    "def benchmark_matmul_python(M, N, K):\n",
    "    A = Matrix(np.random.rand(M, K), M, K)\n",
    "    B = Matrix(np.random.rand(K, N), K, N)\n",
    "    C = Matrix(np.zeros((M, N)), M, N)\n",
    "    secs = timeit(lambda: matmul_python(C, A, B), number=2)/2\n",
    "    gflops = ((2*M*N*K)/secs) / 1e9\n",
    "    print(gflops, \"GFLOP/s\")\n",
    "    return gflops"
   ]
  },
  {
   "cell_type": "code",
   "execution_count": 22,
   "id": "1f03fb2e",
   "metadata": {},
   "outputs": [
    {
     "name": "stdout",
     "output_type": "stream",
     "text": [
      "0.0024738109812009828 GFLOP/s\r\n"
     ]
    }
   ],
   "source": [
    "new_python_gflops = benchmark_matmul_python(128, 128, 128).to_float64()"
   ]
  },
  {
   "cell_type": "code",
   "execution_count": 19,
   "id": "fa3ddf00",
   "metadata": {},
   "outputs": [
    {
     "name": "stdout",
     "output_type": "stream",
     "text": [
      "0.003255171335762047 GFLOP/s\r\n"
     ]
    }
   ],
   "source": [
    "og_python_gflops = benchmark_matmul_python(128, 128, 128).to_float64()"
   ]
  },
  {
   "cell_type": "code",
   "execution_count": 13,
   "id": "619d7c4b",
   "metadata": {},
   "outputs": [],
   "source": [
    "%%python\n",
    "x = np.random.rand(2, 3)"
   ]
  },
  {
   "cell_type": "code",
   "execution_count": 18,
   "id": "e276586c",
   "metadata": {
    "scrolled": true
   },
   "outputs": [
    {
     "name": "stdout",
     "output_type": "stream",
     "text": [
      "0.5221659597666289\r\n"
     ]
    }
   ],
   "source": [
    "print(x[1][2])"
   ]
  },
  {
   "cell_type": "code",
   "execution_count": 23,
   "id": "6db7e93e",
   "metadata": {},
   "outputs": [],
   "source": [
    "#|code-fold: true\n",
    "#|code-summary: \"Import utilities and define `Matrix` (click to show/hide)\"\n",
    "\n",
    "from benchmark import Unit\n",
    "from sys.intrinsics import strided_load\n",
    "from math import div_ceil, min\n",
    "from memory import memset_zero\n",
    "from memory.unsafe import DTypePointer\n",
    "from random import rand, random_float64\n",
    "from sys.info import simdwidthof\n",
    "from runtime.llcl import Runtime"
   ]
  },
  {
   "cell_type": "code",
   "execution_count": 24,
   "id": "6cb0bef6",
   "metadata": {},
   "outputs": [],
   "source": [
    "# This exactly the same Python implementation,\n",
    "# but is infact Mojo code!\n",
    "def matmul_untyped(C, A, B):\n",
    "    for m in range(C.rows):\n",
    "        for k in range(A.cols):\n",
    "            for n in range(C.cols):\n",
    "                C[m, n] += A[m, k] * B[k, n]"
   ]
  },
  {
   "cell_type": "code",
   "execution_count": null,
   "id": "0d50032a",
   "metadata": {},
   "outputs": [],
   "source": [
    "fn matrix_getitem(self: object, i: object) raises -> object:\n",
    "    return self.value[i]\n",
    "    \n",
    "fn matrix_setitem(self:: object, i: object, value: object) raises -> object:\n",
    "    self.value[i] = value\n",
    "    return None\n",
    "    \n",
    "fn matrix_append(self: object, value: object) raises -> object:\n",
    "    self.value.append(value)\n",
    "    return None\n",
    "\n",
    "# Left off here"
   ]
  }
 ],
 "metadata": {
  "kernelspec": {
   "display_name": "Mojo",
   "language": "mojo",
   "name": "mojo-jupyter-kernel"
  },
  "language_info": {
   "codemirror_mode": {
    "name": "mojo"
   },
   "file_extension": ".mojo",
   "mimetype": "text/x-mojo",
   "name": "mojo"
  }
 },
 "nbformat": 4,
 "nbformat_minor": 5
}
