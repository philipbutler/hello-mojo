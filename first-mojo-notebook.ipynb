{
 "cells": [
  {
   "cell_type": "code",
   "execution_count": 3,
   "id": "35e78828",
   "metadata": {},
   "outputs": [
    {
     "name": "stdout",
     "output_type": "stream",
     "text": [
      "Hello Phil!\r\n"
     ]
    }
   ],
   "source": [
    "fn greet(x: String):\n",
    "    print(\"Hello\", x + \"!\")\n",
    "    \n",
    "greet(\"Phil\")"
   ]
  },
  {
   "cell_type": "code",
   "execution_count": null,
   "id": "fbebd439",
   "metadata": {},
   "outputs": [
    {
     "name": "stderr",
     "output_type": "stream",
     "text": [
      "error: \u001b[0;1;31m\u001b[1mExpression [4]:2:5: \u001b[0m\u001b[1m'let' fields in structs are not supported yet\n",
      "\u001b[0m    let bro: String = \"live\"\n",
      "\u001b[0;1;32m    ^\n",
      "\u001b[0m\u001b[0m\n",
      "error: \u001b[0;1;31m\u001b[1mExpression [4]:2:21: \u001b[0m\u001b[1munknown tokens at the end of a declaration\n",
      "\u001b[0m    let bro: String = \"live\"\n",
      "\u001b[0;1;32m                    ^\n",
      "\u001b[0m\u001b[0m\n",
      "expression failed to parse (no further compiler diagnostics)"
     ]
    }
   ],
   "source": [
    "struct first_mojo_struct:\n",
    "    let bro: String = \"live\""
   ]
  }
 ],
 "metadata": {
  "kernelspec": {
   "display_name": "Mojo",
   "language": "mojo",
   "name": "mojo-jupyter-kernel"
  },
  "language_info": {
   "codemirror_mode": {
    "name": "mojo"
   },
   "file_extension": ".mojo",
   "mimetype": "text/x-mojo",
   "name": "mojo"
  }
 },
 "nbformat": 4,
 "nbformat_minor": 5
}
